{
 "cells": [
  {
   "cell_type": "markdown",
   "id": "ba77435d",
   "metadata": {},
   "source": [
    "# 1. Understanding the Dataset\n",
    "Objective: Familiarize yourself with the dataset by loading it and inspecting its features.\n",
    "Tasks:\n",
    "Load a dataset (e.g., from Kaggle or any open-source platform).\n",
    "Understand the target variable and independent variables.\n",
    "Check data types, column names, and shape of the dataset.\n",
    "Example: Use Pandas to load the dataset and check its structure:"
   ]
  },
  {
   "cell_type": "code",
   "execution_count": 2,
   "id": "17ac8abb",
   "metadata": {},
   "outputs": [
    {
     "name": "stdout",
     "output_type": "stream",
     "text": [
      "<class 'pandas.core.frame.DataFrame'>\n",
      "RangeIndex: 15053 entries, 0 to 15052\n",
      "Data columns (total 7 columns):\n",
      " #   Column               Non-Null Count  Dtype  \n",
      "---  ------               --------------  -----  \n",
      " 0   Rank                 15053 non-null  int64  \n",
      " 1   TeamId               15053 non-null  int64  \n",
      " 2   TeamName             15053 non-null  object \n",
      " 3   LastSubmissionDate   15053 non-null  object \n",
      " 4   Score                15053 non-null  float64\n",
      " 5   SubmissionCount      15053 non-null  int64  \n",
      " 6   TeamMemberUserNames  15053 non-null  object \n",
      "dtypes: float64(1), int64(3), object(3)\n",
      "memory usage: 823.3+ KB\n",
      "None\n",
      "               Rank        TeamId         Score  SubmissionCount\n",
      "count  15053.000000  1.505300e+04  15053.000000     15053.000000\n",
      "mean    7526.000000  1.222986e+07      0.765119         3.621139\n",
      "std     4345.571136  1.696860e+06      0.080605         6.319934\n",
      "min        0.000000  3.689700e+04      0.000000         1.000000\n",
      "25%     3763.000000  1.254842e+07      0.765550         1.000000\n",
      "50%     7526.000000  1.261759e+07      0.775110         1.000000\n",
      "75%    11289.000000  1.269631e+07      0.777510         4.000000\n",
      "max    15052.000000  1.279232e+07      1.000000       273.000000\n"
     ]
    }
   ],
   "source": [
    "import pandas as pd\n",
    "\n",
    "df = pd.read_csv('titanic.csv')\n",
    "print(df.info())\n",
    "print(df.describe())\n"
   ]
  },
  {
   "cell_type": "markdown",
   "id": "b4b2a354",
   "metadata": {},
   "source": [
    "# 2. Handling Missing Data\n",
    "Objective: Identify and handle any missing values in the dataset.\n",
    "Tasks:\n",
    "Identify missing values using .isnull().sum().\n",
    "Decide whether to remove, fill, or impute missing data"
   ]
  },
  {
   "cell_type": "code",
   "execution_count": 3,
   "id": "f6102076",
   "metadata": {},
   "outputs": [
    {
     "name": "stdout",
     "output_type": "stream",
     "text": [
      "Rank                   0\n",
      "TeamId                 0\n",
      "TeamName               0\n",
      "LastSubmissionDate     0\n",
      "Score                  0\n",
      "SubmissionCount        0\n",
      "TeamMemberUserNames    0\n",
      "dtype: int64\n"
     ]
    }
   ],
   "source": [
    "print(df.isnull().sum())\n",
    "# Fill missing values\n",
    "df['Score'].fillna(df['Score'].mean(), inplace=True)\n"
   ]
  },
  {
   "cell_type": "markdown",
   "id": "96cd0e4a",
   "metadata": {},
   "source": [
    "# 3. Data Visualization\n",
    "Objective: Visualize the data to understand patterns, correlations, and outliers.\n",
    "Tasks:\n",
    "Use libraries like Matplotlib and Seaborn to plot distributions, correlations, and relationships.\n",
    "Common plots: histograms, boxplots, pair plots, and correlation heatmaps."
   ]
  },
  {
   "cell_type": "code",
   "execution_count": 3,
   "id": "68a646e8",
   "metadata": {},
   "outputs": [
    {
     "ename": "ModuleNotFoundError",
     "evalue": "No module named 'seaborn'",
     "output_type": "error",
     "traceback": [
      "\u001b[1;31m---------------------------------------------------------------------------\u001b[0m",
      "\u001b[1;31mModuleNotFoundError\u001b[0m                       Traceback (most recent call last)",
      "Cell \u001b[1;32mIn[3], line 1\u001b[0m\n\u001b[1;32m----> 1\u001b[0m \u001b[38;5;28;01mimport\u001b[39;00m \u001b[38;5;21;01mseaborn\u001b[39;00m \n\u001b[0;32m      2\u001b[0m \u001b[38;5;28;01mimport\u001b[39;00m \u001b[38;5;21;01mmatplotlib\u001b[39;00m\u001b[38;5;21;01m.\u001b[39;00m\u001b[38;5;21;01mpyplot\u001b[39;00m \u001b[38;5;28;01mas\u001b[39;00m \u001b[38;5;21;01mplt\u001b[39;00m\n\u001b[0;32m      4\u001b[0m \u001b[38;5;66;03m# Plot a histogram\u001b[39;00m\n",
      "\u001b[1;31mModuleNotFoundError\u001b[0m: No module named 'seaborn'"
     ]
    }
   ],
   "source": [
    "import seaborn \n",
    "import matplotlib.pyplot as plt\n",
    "\n",
    "# Plot a histogram\n",
    "seaborn.histplot(df['Rank'], kde=True)\n",
    "plt.show()\n",
    "\n",
    "# Correlation heatmap\n",
    "seaborn.heatmap(df.corr(), annot=True, cmap='coolwarm')\n",
    "plt.show()\n"
   ]
  },
  {
   "cell_type": "code",
   "execution_count": null,
   "id": "aab8abd4",
   "metadata": {},
   "outputs": [],
   "source": [
    "!pip uninstall seaborn"
   ]
  },
  {
   "cell_type": "code",
   "execution_count": null,
   "id": "a812e68d",
   "metadata": {},
   "outputs": [],
   "source": []
  }
 ],
 "metadata": {
  "kernelspec": {
   "display_name": "Python 3 (ipykernel)",
   "language": "python",
   "name": "python3"
  },
  "language_info": {
   "codemirror_mode": {
    "name": "ipython",
    "version": 3
   },
   "file_extension": ".py",
   "mimetype": "text/x-python",
   "name": "python",
   "nbconvert_exporter": "python",
   "pygments_lexer": "ipython3",
   "version": "3.11.4"
  }
 },
 "nbformat": 4,
 "nbformat_minor": 5
}
