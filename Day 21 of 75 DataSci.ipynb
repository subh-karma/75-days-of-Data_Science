{
 "cells": [
  {
   "cell_type": "code",
   "execution_count": 2,
   "id": "74872ce1",
   "metadata": {},
   "outputs": [],
   "source": [
    "import statistics as st\n"
   ]
  },
  {
   "cell_type": "code",
   "execution_count": 3,
   "id": "72ec1b2f",
   "metadata": {},
   "outputs": [],
   "source": [
    "data = [10, 15, 20, 15, 25, 30, 15, 40, 45]\n"
   ]
  },
  {
   "cell_type": "code",
   "execution_count": 4,
   "id": "38046354",
   "metadata": {},
   "outputs": [],
   "source": [
    "# Calculating mean, median, and mode\n",
    "mean_value = st.mean(data)\n",
    "median_value = st.median(data)\n",
    "try:\n",
    "    mode_value = st.mode(data)\n",
    "except st.StatisticsError:\n",
    "    mode_value = \"No unique mode (all values appear only once)\""
   ]
  },
  {
   "cell_type": "code",
   "execution_count": 5,
   "id": "050b6c80",
   "metadata": {},
   "outputs": [
    {
     "name": "stdout",
     "output_type": "stream",
     "text": [
      "Mean: 23.88888888888889\n",
      "Median: 20\n",
      "Mode: 15\n"
     ]
    }
   ],
   "source": [
    "# Display results\n",
    "print(f\"Mean: {mean_value}\")\n",
    "print(f\"Median: {median_value}\")\n",
    "print(f\"Mode: {mode_value}\")"
   ]
  },
  {
   "cell_type": "code",
   "execution_count": null,
   "id": "1ddac4b8",
   "metadata": {},
   "outputs": [],
   "source": []
  }
 ],
 "metadata": {
  "kernelspec": {
   "display_name": "Python 3 (ipykernel)",
   "language": "python",
   "name": "python3"
  },
  "language_info": {
   "codemirror_mode": {
    "name": "ipython",
    "version": 3
   },
   "file_extension": ".py",
   "mimetype": "text/x-python",
   "name": "python",
   "nbconvert_exporter": "python",
   "pygments_lexer": "ipython3",
   "version": "3.11.4"
  }
 },
 "nbformat": 4,
 "nbformat_minor": 5
}
