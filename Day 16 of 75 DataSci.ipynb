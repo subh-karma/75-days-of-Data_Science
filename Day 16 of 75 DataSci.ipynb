{
 "cells": [
  {
   "cell_type": "code",
   "execution_count": 1,
   "id": "3b8086f2",
   "metadata": {},
   "outputs": [],
   "source": [
    "import numpy as np\n"
   ]
  },
  {
   "cell_type": "code",
   "execution_count": 2,
   "id": "5d71c514",
   "metadata": {},
   "outputs": [],
   "source": [
    "years_experience = np.array([1, 2, 3, 4, 5])\n",
    "salaries = np.array([30, 35, 40, 45, 50])"
   ]
  },
  {
   "cell_type": "code",
   "execution_count": 3,
   "id": "89021db7",
   "metadata": {},
   "outputs": [],
   "source": [
    "# Step 1: Calculate means of X and Y\n",
    "mean_X = np.mean(years_experience)\n",
    "mean_Y = np.mean(salaries)"
   ]
  },
  {
   "cell_type": "code",
   "execution_count": 4,
   "id": "a778a9d0",
   "metadata": {},
   "outputs": [],
   "source": [
    "# Step 2: Calculate slope (m) and intercept (b)\n",
    "numerator = np.sum((years_experience - mean_X) * (salaries - mean_Y))\n",
    "denominator = np.sum((years_experience - mean_X) ** 2)\n",
    "m = numerator / denominator\n",
    "b = mean_Y - m * mean_X"
   ]
  },
  {
   "cell_type": "code",
   "execution_count": 5,
   "id": "b8f45b7a",
   "metadata": {},
   "outputs": [
    {
     "name": "stdout",
     "output_type": "stream",
     "text": [
      "Linear Regression Equation: Salary = 5.0 * (Years of Experience) + 25.0\n"
     ]
    }
   ],
   "source": [
    "print(f\"Linear Regression Equation: Salary = {m} * (Years of Experience) + {b}\")\n"
   ]
  },
  {
   "cell_type": "code",
   "execution_count": 6,
   "id": "d0a2cef3",
   "metadata": {},
   "outputs": [
    {
     "name": "stdout",
     "output_type": "stream",
     "text": [
      "Predicted Salary for 6 years of experience: $55000.0\n"
     ]
    }
   ],
   "source": [
    "# Step 3: Predict the salary for an employee with 6 years of experience\n",
    "years_of_experience = 6\n",
    "predicted_salary = m * years_of_experience + b\n",
    "print(f\"Predicted Salary for 6 years of experience: ${predicted_salary * 1000}\")"
   ]
  },
  {
   "cell_type": "code",
   "execution_count": null,
   "id": "2acadda5",
   "metadata": {},
   "outputs": [],
   "source": [
    "import matplotlib.pyplot as plt\n"
   ]
  }
 ],
 "metadata": {
  "kernelspec": {
   "display_name": "Python 3 (ipykernel)",
   "language": "python",
   "name": "python3"
  },
  "language_info": {
   "codemirror_mode": {
    "name": "ipython",
    "version": 3
   },
   "file_extension": ".py",
   "mimetype": "text/x-python",
   "name": "python",
   "nbconvert_exporter": "python",
   "pygments_lexer": "ipython3",
   "version": "3.11.4"
  }
 },
 "nbformat": 4,
 "nbformat_minor": 5
}
