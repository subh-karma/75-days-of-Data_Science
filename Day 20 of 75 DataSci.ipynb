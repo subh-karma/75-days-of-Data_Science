{
 "cells": [
  {
   "cell_type": "code",
   "execution_count": 1,
   "id": "fb039da2",
   "metadata": {},
   "outputs": [
    {
     "name": "stdout",
     "output_type": "stream",
     "text": [
      "Mean age: 36.53333333333333\n",
      "Median age: 38.0\n",
      "Mode age: 34 with a count of 3\n"
     ]
    },
    {
     "name": "stderr",
     "output_type": "stream",
     "text": [
      "C:\\Users\\Acer\\AppData\\Local\\Temp\\ipykernel_6664\\837900202.py:16: FutureWarning: Unlike other reduction functions (e.g. `skew`, `kurtosis`), the default behavior of `mode` typically preserves the axis it acts along. In SciPy 1.11.0, this behavior will change: the default value of `keepdims` will become False, the `axis` over which the statistic is taken will be eliminated, and the value None will no longer be accepted. Set `keepdims` to True or False to avoid this warning.\n",
      "  mode_age = stats.mode(ages)\n"
     ]
    }
   ],
   "source": [
    "import numpy as np\n",
    "from scipy import stats\n",
    "\n",
    "# Sample data: ages of a group of people\n",
    "ages = [23, 26, 26, 29, 34, 34, 34, 38, 40, 41, 42, 42, 45, 46, 48]\n",
    "\n",
    "# Calculate mean\n",
    "mean_age = np.mean(ages)\n",
    "print(f\"Mean age: {mean_age}\")\n",
    "\n",
    "# Calculate median\n",
    "median_age = np.median(ages)\n",
    "print(f\"Median age: {median_age}\")\n",
    "\n",
    "# Calculate mode\n",
    "mode_age = stats.mode(ages)\n",
    "print(f\"Mode age: {mode_age.mode[0]} with a count of {mode_age.count[0]}\")\n"
   ]
  },
  {
   "cell_type": "code",
   "execution_count": null,
   "id": "07174cc7",
   "metadata": {},
   "outputs": [],
   "source": []
  }
 ],
 "metadata": {
  "kernelspec": {
   "display_name": "Python 3 (ipykernel)",
   "language": "python",
   "name": "python3"
  },
  "language_info": {
   "codemirror_mode": {
    "name": "ipython",
    "version": 3
   },
   "file_extension": ".py",
   "mimetype": "text/x-python",
   "name": "python",
   "nbconvert_exporter": "python",
   "pygments_lexer": "ipython3",
   "version": "3.11.4"
  }
 },
 "nbformat": 4,
 "nbformat_minor": 5
}
