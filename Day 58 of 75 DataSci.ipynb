{
 "cells": [
  {
   "cell_type": "code",
   "execution_count": 1,
   "id": "88af8844",
   "metadata": {},
   "outputs": [
    {
     "name": "stdout",
     "output_type": "stream",
     "text": [
      "Keys of digits dataset: dict_keys(['data', 'target', 'frame', 'feature_names', 'target_names', 'images', 'DESCR'])\n",
      "Shape of data: (1797, 64)\n",
      "Shape of target: (1797,)\n",
      "Target names: [0 1 2 3 4 5 6 7 8 9]\n"
     ]
    },
    {
     "data": {
      "image/png": "[encoded data removed]",
      "text/plain": [
       "<Figure size 1000x300 with 5 Axes>"
      ]
     },
     "metadata": {},
     "output_type": "display_data"
    }
   ],
   "source": [
    "from sklearn.datasets import load_digits\n",
    "import matplotlib.pyplot as plt\n",
    "\n",
    "# Load the digits dataset\n",
    "digits = load_digits()\n",
    "\n",
    "# Explore the dataset\n",
    "print(\"Keys of digits dataset:\", digits.keys())\n",
    "print(\"Shape of data:\", digits.data.shape)  # Features\n",
    "print(\"Shape of target:\", digits.target.shape)  # Labels\n",
    "print(\"Target names:\", digits.target_names)\n",
    "\n",
    "# Visualize a few digits\n",
    "fig, axes = plt.subplots(1, 5, figsize=(10, 3))\n",
    "for ax, image, label in zip(axes, digits.images, digits.target):\n",
    "    ax.set_axis_off()\n",
    "    ax.imshow(image, cmap=plt.cm.gray_r, interpolation=\"nearest\")\n",
    "    ax.set_title(f\"Label: {label}\")\n",
    "\n",
    "plt.show()\n",
    "\n",
    "# Split data into features and labels\n",
    "X = digits.data  # Flattened pixel data\n",
    "y = digits.target  # Labels\n"
   ]
  },
  {
   "cell_type": "code",
   "execution_count": null,
   "id": "61c37d07",
   "metadata": {},
   "outputs": [],
   "source": []
  }
 ],
 "metadata": {
  "kernelspec": {
   "display_name": "Python 3 (ipykernel)",
   "language": "python",
   "name": "python3"
  },
  "language_info": {
   "codemirror_mode": {
    "name": "ipython",
    "version": 3
   },
   "file_extension": ".py",
   "mimetype": "text/x-python",
   "name": "python",
   "nbconvert_exporter": "python",
   "pygments_lexer": "ipython3",
   "version": "3.11.4"
  }
 },
 "nbformat": 4,
 "nbformat_minor": 5
}
