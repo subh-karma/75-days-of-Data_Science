{
 "cells": [
  {
   "cell_type": "code",
   "execution_count": 1,
   "id": "e30a0705",
   "metadata": {},
   "outputs": [
    {
     "name": "stdout",
     "output_type": "stream",
     "text": [
      "Entropy of the dataset: 1.4591\n"
     ]
    }
   ],
   "source": [
    "import numpy as np\n",
    "from collections import Counter\n",
    "\n",
    "def calculate_entropy(data):\n",
    "    \"\"\"\n",
    "    Calculate the entropy of a dataset.\n",
    "    :param data: List or array-like, contains the data to calculate entropy for.\n",
    "    :return: Entropy value.\n",
    "    \"\"\"\n",
    "    # Count the frequency of each unique value\n",
    "    counts = Counter(data)\n",
    "    total = len(data)\n",
    "    \n",
    "    # Calculate probabilities\n",
    "    probabilities = [count / total for count in counts.values()]\n",
    "    \n",
    "    # Calculate entropy\n",
    "    entropy = -sum(p * np.log2(p) for p in probabilities if p > 0)\n",
    "    \n",
    "    return entropy\n",
    "\n",
    "# Example dataset\n",
    "data = ['apple', 'banana', 'apple', 'orange', 'banana', 'apple']\n",
    "\n",
    "entropy_value = calculate_entropy(data)\n",
    "print(f\"Entropy of the dataset: {entropy_value:.4f}\")\n"
   ]
  },
  {
   "cell_type": "code",
   "execution_count": null,
   "id": "0b528af8",
   "metadata": {},
   "outputs": [],
   "source": []
  }
 ],
 "metadata": {
  "kernelspec": {
   "display_name": "Python 3 (ipykernel)",
   "language": "python",
   "name": "python3"
  },
  "language_info": {
   "codemirror_mode": {
    "name": "ipython",
    "version": 3
   },
   "file_extension": ".py",
   "mimetype": "text/x-python",
   "name": "python",
   "nbconvert_exporter": "python",
   "pygments_lexer": "ipython3",
   "version": "3.11.4"
  }
 },
 "nbformat": 4,
 "nbformat_minor": 5
}
