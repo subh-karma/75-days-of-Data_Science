{
 "cells": [
  {
   "cell_type": "code",
   "execution_count": null,
   "id": "ca22b108",
   "metadata": {},

   "outputs": [],
   "source": [
    "import numpy as np\n",
    "from tensorflow.keras.models import Sequential\n",
    "from tensorflow.keras.layers import Dense\n",
    "from sklearn.model_selection import train_test_split\n",
    "from sklearn.preprocessing import StandardScaler\n",
    "from sklearn.datasets import make_classification\n",
    "\n",
    "# Step 1: Generate synthetic data\n",
    "X, y = make_classification(n_samples=1000, n_features=10, n_informative=5, \n",
    "                           n_redundant=2, n_classes=2, random_state=42)\n",
    "\n",
    "# Step 2: Preprocess the data\n",
    "scaler = StandardScaler()\n",
    "X = scaler.fit_transform(X)\n",
    "X_train, X_test, y_train, y_test = train_test_split(X, y, test_size=0.2, random_state=42)\n",
    "\n",
    "# Step 3: Build the ANN model\n",
    "model = Sequential([\n",
    "    Dense(16, activation='relu', input_shape=(X.shape[1],)),  # Input layer with 16 neurons\n",
    "    Dense(8, activation='relu'),                              # Hidden layer with 8 neurons\n",
    "    Dense(1, activation='sigmoid')                            # Output layer with sigmoid activation\n",
    "])\n",
    "\n",
    "# Step 4: Compile the model\n",
    "model.compile(optimizer='adam', loss='binary_crossentropy', metrics=['accuracy'])\n",
    "\n",
    "# Step 5: Train the model\n",
    "history = model.fit(X_train, y_train, epochs=20, batch_size=32, validation_split=0.2, verbose=1)\n",
    "\n",
    "# Step 6: Evaluate the model\n",
    "test_loss, test_accuracy = model.evaluate(X_test, y_test, verbose=0)\n",
    "print(f\"Test Accuracy: {test_accuracy:.2f}\")\n",
    "\n",
    "# Step 7: Make predictions\n",
    "predictions = (model.predict(X_test) > 0.5).astype(\"int32\")\n",
    "print(\"Sample Predictions:\", predictions[:10].flatten())\n"
   ]
  },
  {
   "cell_type": "code",
   "execution_count": null,
   "id": "6104ab50",
   "metadata": {},
   "outputs": [],
   "source": []
  }
 ],
 "metadata": {
  "kernelspec": {
   "display_name": "Python 3 (ipykernel)",
   "language": "python",
   "name": "python3"
  },
  "language_info": {
   "codemirror_mode": {
    "name": "ipython",
    "version": 3
   },
   "file_extension": ".py",
   "mimetype": "text/x-python",
   "name": "python",
   "nbconvert_exporter": "python",
   "pygments_lexer": "ipython3",
   "version": "3.11.4"
  }
 },
 "nbformat": 4,
 "nbformat_minor": 5
}
