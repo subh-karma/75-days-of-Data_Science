{
 "cells": [
  {
   "cell_type": "markdown",
   "id": "75edfeb5",
   "metadata": {},
   "source": [
    "#Data cleaning \n",
    "df.dropna()  # Drops rows with any missing values\n",
    "df.dropna(axis=1)  # Drops columns with missing values"
   ]
  },
  {
   "cell_type": "raw",
   "id": "80890e34",
   "metadata": {},
   "source": [
    "#Replacing missing values with the mean, median, mode, or using more advanced techniques like interpolation.\n",
    "df['Age'].fillna(df['Age'].mean(), inplace=True)  # Replaces missing age values with the mean\n"
   ]
  },
  {
   "cell_type": "raw",
   "id": "ccd0a6cf",
   "metadata": {},
   "source": [
    "#Duplicated data can inflate results and bias analysis.\n",
    "df.drop_duplicates(inplace=True)\n"
   ]
  },
  {
   "cell_type": "raw",
   "id": "f1cf2eb7",
   "metadata": {},
   "source": [
    "#Ensuring data types are correct (e.g., converting string numbers to integers, dates to datetime).\n",
    "df['Date'] = pd.to_datetime(df['Date'])  # Converts a string column to datetime\n",
    "df['Price'] = pd.to_numeric(df['Price'], errors='coerce')  # Converts a string column to numeric, coercing invalid values to NaN\n"
   ]
  },
  {
   "cell_type": "raw",
   "id": "eb69378b",
   "metadata": {},
   "source": [
    "# Removing or capping extreme values that may skew results.\n",
    "# Removing outliers using Z-score\n",
    "from scipy import stats\n",
    "df = df[(np.abs(stats.zscore(df['Income'])) < 3)]\n"
   ]
  },
  {
   "cell_type": "raw",
   "id": "1282956e",
   "metadata": {},
   "source": [
    "#Handling Inconsistent Data\n",
    "#Correcting values that are meant to be the same but are represented differently (e.g., \"USA\" vs \"United States\").\n",
    "df['Country'].replace({'USA': 'United States', 'UK': 'United Kingdom'}, inplace=True)\n"
   ]
  },
  {
   "cell_type": "raw",
   "id": "b1f8908f",
   "metadata": {},
   "source": [
    "#Removing features that are not relevant to the analysis.\n",
    "df.drop(['Unnamed: 0'], axis=1, inplace=True)  # Removes unnecessary index column\n"
   ]
  },
  {
   "cell_type": "raw",
   "id": "2d56d285",
   "metadata": {},
   "source": [
    "df['AgeGroup'] = pd.cut(df['Age'], bins=[0, 18, 35, 60, 100], labels=['Child', 'Youth', 'Adult', 'Senior'])\n",
    "#Grouping numerical data into bins for better analysis or to reduce the effect of small fluctuations.\n"
   ]
  },
  {
   "cell_type": "code",
   "execution_count": null,
   "id": "eb6665de",
   "metadata": {},
   "outputs": [],
   "source": []
  }
 ],
 "metadata": {
  "kernelspec": {
   "display_name": "Python 3 (ipykernel)",
   "language": "python",
   "name": "python3"
  },
  "language_info": {
   "codemirror_mode": {
    "name": "ipython",
    "version": 3
   },
   "file_extension": ".py",
   "mimetype": "text/x-python",
   "name": "python",
   "nbconvert_exporter": "python",
   "pygments_lexer": "ipython3",
   "version": "3.11.4"
  }
 },
 "nbformat": 4,
 "nbformat_minor": 5
}
