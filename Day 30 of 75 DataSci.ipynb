{
 "cells": [
  {
   "cell_type": "code",
   "execution_count": 1,
   "id": "4c8313a8",
   "metadata": {},
   "outputs": [
    {
     "ename": "ModuleNotFoundError",
     "evalue": "No module named 'seaborn'",
     "output_type": "error",
     "traceback": [
      "\u001b[1;31m---------------------------------------------------------------------------\u001b[0m",
      "\u001b[1;31mModuleNotFoundError\u001b[0m                       Traceback (most recent call last)",
      "Cell \u001b[1;32mIn[1], line 5\u001b[0m\n\u001b[0;32m      3\u001b[0m \u001b[38;5;28;01mimport\u001b[39;00m \u001b[38;5;21;01mpandas\u001b[39;00m \u001b[38;5;28;01mas\u001b[39;00m \u001b[38;5;21;01mpd\u001b[39;00m\n\u001b[0;32m      4\u001b[0m \u001b[38;5;28;01mimport\u001b[39;00m \u001b[38;5;21;01mmatplotlib\u001b[39;00m\u001b[38;5;21;01m.\u001b[39;00m\u001b[38;5;21;01mpyplot\u001b[39;00m \u001b[38;5;28;01mas\u001b[39;00m \u001b[38;5;21;01mplt\u001b[39;00m\n\u001b[1;32m----> 5\u001b[0m \u001b[38;5;28;01mimport\u001b[39;00m \u001b[38;5;21;01mseaborn\u001b[39;00m \u001b[38;5;28;01mas\u001b[39;00m \u001b[38;5;21;01msns\u001b[39;00m\n\u001b[0;32m      6\u001b[0m \u001b[38;5;28;01mfrom\u001b[39;00m \u001b[38;5;21;01mscipy\u001b[39;00m \u001b[38;5;28;01mimport\u001b[39;00m stats\n\u001b[0;32m      8\u001b[0m \u001b[38;5;66;03m# Sample Data\u001b[39;00m\n",
      "\u001b[1;31mModuleNotFoundError\u001b[0m: No module named 'seaborn'"
     ]
    }
   ],
   "source": [
    "# Importing required libraries\n",
    "import numpy as np\n",
    "import pandas as pd\n",
    "import matplotlib.pyplot as plt\n",
    "import seaborn as sns\n",
    "from scipy import stats\n",
    "\n",
    "# Sample Data\n",
    "data = [12, 15, 13, 17, 18, 19, 22, 24, 29, 30, 15, 18, 17, 16, 20, 19, 22, 21, 25, 26]\n",
    "\n",
    "# 1. Descriptive Statistics\n",
    "mean = np.mean(data)\n",
    "median = np.median(data)\n",
    "mode = stats.mode(data).mode[0]\n",
    "std_dev = np.std(data)\n",
    "variance = np.var(data)\n",
    "range_of_data = np.ptp(data)\n",
    "\n",
    "print(\"Descriptive Statistics:\")\n",
    "print(f\"Mean: {mean}\")\n",
    "print(f\"Median: {median}\")\n",
    "print(f\"Mode: {mode}\")\n",
    "print(f\"Standard Deviation: {std_dev}\")\n",
    "print(f\"Variance: {variance}\")\n",
    "print(f\"Range: {range_of_data}\")\n",
    "\n",
    "# 2. Data Visualization - Histogram\n",
    "plt.figure(figsize=(10, 6))\n",
    "sns.histplot(data, bins=10, kde=True, color='skyblue')\n",
    "plt.title('Data Distribution - Histogram')\n",
    "plt.xlabel('Data Value')\n",
    "plt.ylabel('Frequency')\n",
    "plt.show()\n",
    "\n",
    "# 3. Probability Distribution - Normal Distribution\n",
    "# Generate a normal distribution\n",
    "mu, sigma = 20, 5  # Mean and standard deviation\n",
    "normal_data = np.random.normal(mu, sigma, 1000)\n",
    "\n",
    "# Plotting the normal distribution\n",
    "plt.figure(figsize=(10, 6))\n",
    "sns.histplot(normal_data, bins=30, kde=True, color='purple')\n",
    "plt.title('Normal Distribution (mu=20, sigma=5)')\n",
    "plt.xlabel('Value')\n",
    "plt.ylabel('Frequency')\n",
    "plt.show()\n",
    "\n",
    "# 4. Inferential Statistics - Hypothesis Testing\n",
    "# Null Hypothesis (H0): The sample mean is 20\n",
    "# Alternative Hypothesis (H1): The sample mean is not 20\n",
    "sample_mean = np.mean(data)\n",
    "population_mean = 20\n",
    "\n",
    "# Perform a t-test\n",
    "t_stat, p_value = stats.ttest_1samp(data, population_mean)\n",
    "\n",
    "print(\"\\nHypothesis Testing:\")\n",
    "print(f\"T-statistic: {t_stat}\")\n",
    "print(f\"P-value: {p_value}\")\n",
    "\n",
    "if p_value < 0.05:\n",
    "    print(\"Reject the null hypothesis: The sample mean is significantly different from 20.\")\n",
    "else:\n",
    "    print(\"Fail to reject the null hypothesis: The sample mean is not significantly different from 20.\")\n"
   ]
  },
  {
   "cell_type": "code",
   "execution_count": null,
   "id": "360dfc1d",
   "metadata": {},
   "outputs": [],
   "source": []
  }
 ],
 "metadata": {
  "kernelspec": {
   "display_name": "Python 3 (ipykernel)",
   "language": "python",
   "name": "python3"
  },
  "language_info": {
   "codemirror_mode": {
    "name": "ipython",
    "version": 3
   },
   "file_extension": ".py",
   "mimetype": "text/x-python",
   "name": "python",
   "nbconvert_exporter": "python",
   "pygments_lexer": "ipython3",
   "version": "3.11.4"
  }
 },
 "nbformat": 4,
 "nbformat_minor": 5
}
