{
 "cells": [
  {
   "cell_type": "code",
   "execution_count": 2,
   "id": "3236d7de",
   "metadata": {},
   "outputs": [],
   "source": [
    "# Step 1: Importing the necessary libraries\n",
    "import pandas as pd\n",
    "import numpy as np\n",
    "import matplotlib.pyplot as plt\n",
    "import seaborn as sns\n",
    "from sklearn.model_selection import train_test_split\n",
    "from sklearn.linear_model import LinearRegression\n",
    "from sklearn.ensemble import RandomForestRegressor\n",
    "from sklearn.metrics import mean_absolute_error, mean_squared_error, r2_score\n",
    "from sklearn.preprocessing import StandardScaler\n",
    "\n",
    "# Step 2: Loading the dataset\n",
    "# You can download the dataset from Kaggle or use your own data.\n",
    "# For this example, let's assume the dataset is a CSV file\n",
    "df = pd.read_csv('house_prices.csv')\n",
    "\n",
    "# Step 3: Exploring the dataset\n",
    "print(df.head())  # Checking the first few rows\n",
    "print(df.info())  # Checking for missing values and data types\n",
    "\n",
    "# Step 4: Data Preprocessing\n",
    "# Handle missing values\n",
    "df = df.dropna()  # Dropping rows with missing values for simplicity, or you can fill missing values\n",
    "\n",
    "# Encode categorical variables (e.g., 'Neighborhood')\n",
    "df = pd.get_dummies(df, drop_first=True)\n",
    "\n",
    "# Step 5: Feature Selection\n",
    "# Select features (X) and target variable (y)\n",
    "X = df.drop('SalePrice', axis=1)\n",
    "y = df['SalePrice']\n",
    "\n",
    "# Step 6: Splitting the data into training and testing sets\n",
    "X_train, X_test, y_train, y_test = train_test_split(X, y, test_size=0.2, random_state=42)\n",
    "\n",
    "# Step 7: Feature Scaling (Optional but recommended for some models)\n",
    "scaler = StandardScaler()\n",
    "X_train_scaled = scaler.fit_transform(X_train)\n",
    "X_test_scaled = scaler.transform(X_test)\n",
    "\n",
    "# Step 8: Model Training\n",
    "# Let's try both Linear Regression and Random Forest Regressor\n",
    "\n",
    "# Linear Regression Model\n",
    "lr_model = LinearRegression()\n",
    "lr_model.fit(X_train_scaled, y_train)\n",
    "\n",
    "# Random Forest Model\n",
    "rf_model = RandomForestRegressor(n_estimators=100, random_state=42)\n",
    "rf_model.fit(X_train_scaled, y_train)\n",
    "\n",
    "# Step 9: Model Evaluation\n",
    "# Predictions using Linear Regression\n",
    "y_pred_lr = lr_model.p\n"
   ]
  },
  {
   "cell_type": "code",
   "execution_count": null,
   "id": "5d49c9a7",
   "metadata": {},
   "outputs": [],
   "source": []
  }
 ],
 "metadata": {
  "kernelspec": {
   "display_name": "Python 3 (ipykernel)",
   "language": "python",
   "name": "python3"
  },
  "language_info": {
   "codemirror_mode": {
    "name": "ipython",
    "version": 3
   },
   "file_extension": ".py",
   "mimetype": "text/x-python",
   "name": "python",
   "nbconvert_exporter": "python",
   "pygments_lexer": "ipython3",
   "version": "3.11.4"
  }
 },
 "nbformat": 4,
 "nbformat_minor": 5
}
