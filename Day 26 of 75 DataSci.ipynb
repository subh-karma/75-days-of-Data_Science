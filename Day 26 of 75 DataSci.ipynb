{
 "cells": [
  {
   "cell_type": "code",
   "execution_count": null,
   "id": "3ec8be6b",
   "metadata": {},
   "outputs": [],
   "source": [
    "# Import necessary libraries\n",
    "import pandas as pd\n",
    "import matplotlib.pyplot as plt\n",
    "\n",
    "# Load the data\n",
    "# Replace 'data.csv' with the path to your CSV file\n",
    "data = pd.read_csv('data.csv')\n",
    "\n",
    "# Display first few rows of the data\n",
    "print(\"Original Data:\")\n",
    "print(data.head())\n",
    "\n",
    "# Step 1: Data Cleaning\n",
    "# Drop any rows with missing values\n",
    "data.dropna(inplace=True)\n",
    "\n",
    "# Remove duplicate rows\n",
    "data.drop_duplicates(inplace=True)\n",
    "\n",
    "# Convert a column to a numeric type if needed (e.g., 'sales' column)\n",
    "data['sales'] = pd.to_numeric(data['sales'], errors='coerce')\n",
    "\n",
    "# Fill any remaining NaNs in 'sales' column with 0\n",
    "data['sales'].fillna(0, inplace=True)\n",
    "\n",
    "# Step 2: Data Visualization\n",
    "# Plotting sales over time\n",
    "plt.figure(figsize=(10, 5))\n",
    "plt.plot(data['date'], data['sales'], marker='o', color='b')\n",
    "plt.title('Sales Over Time')\n",
    "plt.xlabel('Date')\n",
    "plt.ylabel('Sales')\n",
    "plt.xticks(rotation=45)\n",
    "plt.grid(True)\n",
    "plt.show()\n"
   ]
  }
 ],
 "metadata": {
  "kernelspec": {
   "display_name": "Python 3 (ipykernel)",
   "language": "python",
   "name": "python3"
  },
  "language_info": {
   "codemirror_mode": {
    "name": "ipython",
    "version": 3
   },
   "file_extension": ".py",
   "mimetype": "text/x-python",
   "name": "python",
   "nbconvert_exporter": "python",
   "pygments_lexer": "ipython3",
   "version": "3.11.4"
  }
 },
 "nbformat": 4,
 "nbformat_minor": 5
}
