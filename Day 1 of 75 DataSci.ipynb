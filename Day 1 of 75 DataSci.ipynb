{
 "cells": [
  {
   "cell_type": "markdown",
   "id": "84cef603",
   "metadata": {},
   "source": [
    "Day 1: Introduction to Data Science and Python Basics\n"
   ]
  },
  {
   "cell_type": "markdown",
   "id": "eccc1369",
   "metadata": {},
   "source": [
    "Problem Statement: Write a Python program to calculate the mean (average) of a given list of numbers.\n",
    "\n",
    "Input: [10, 20, 30, 40, 50]\n",
    "Output: 30"
   ]
  },
  {
   "cell_type": "markdown",
   "id": "825d1500",
   "metadata": {},
   "source": [
    "sol: \n",
    "formula to find mean is \" sum of array/length of array \""
   ]
  },
  {
   "cell_type": "code",
   "execution_count": 7,
   "id": "46e8fb46",
   "metadata": {},
   "outputs": [],
   "source": [
    "def mean_array(arr):\n",
    "    return sum(arr)/len(arr)\n",
    "    \n",
    "    "
   ]
  },
  {
   "cell_type": "code",
   "execution_count": 6,
   "id": "955188cc",
   "metadata": {},
   "outputs": [
    {
     "name": "stdout",
     "output_type": "stream",
     "text": [
      "Mean of the list: [10, 20, 30, 40, 50]\n"
     ]
    }
   ],
   "source": [
    "arr = [10, 20, 30, 40, 50]\n",
    "print(\"Mean of the list:\", mean_array(arr))"
   ]
  },
  {
   "cell_type": "code",
   "execution_count": null,
   "id": "2c35edde",
   "metadata": {},
   "outputs": [],
   "source": []
  }
 ],
 "metadata": {
  "kernelspec": {
   "display_name": "Python 3 (ipykernel)",
   "language": "python",
   "name": "python3"
  },
  "language_info": {
   "codemirror_mode": {
    "name": "ipython",
    "version": 3
   },
   "file_extension": ".py",
   "mimetype": "text/x-python",
   "name": "python",
   "nbconvert_exporter": "python",
   "pygments_lexer": "ipython3",
   "version": "3.11.4"
  }
 },
 "nbformat": 4,
 "nbformat_minor": 5
}
