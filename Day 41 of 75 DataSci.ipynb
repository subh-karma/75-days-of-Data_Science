{
 "cells": [
  {
   "cell_type": "code",
   "execution_count": null,
   "id": "dcadcb95",
   "metadata": {},
   "outputs": [],
   "source": [
    "def Predict_Calorie_Burnage(Average_Pulse, Duration):\n",
    " return(3.1695*Average_Pulse + 5.8434 * Duration - 334.5194)\n",
    "\n",
    "print(Predict_Calorie_Burnage(110,60))\n",
    "print(Predict_Calorie_Burnage(140,45))\n",
    "print(Predict_Calorie_Burnage(175,20))"
   ]
  }
 ],
 "metadata": {
  "kernelspec": {
   "display_name": "Python 3 (ipykernel)",
   "language": "python",
   "name": "python3"
  },
  "language_info": {
   "codemirror_mode": {
    "name": "ipython",
    "version": 3
   },
   "file_extension": ".py",
   "mimetype": "text/x-python",
   "name": "python",
   "nbconvert_exporter": "python",
   "pygments_lexer": "ipython3",
   "version": "3.11.4"
  }
 },
 "nbformat": 4,
 "nbformat_minor": 5
}
