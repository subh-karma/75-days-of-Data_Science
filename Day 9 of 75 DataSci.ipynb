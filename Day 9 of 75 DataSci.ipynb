{
 "cells": [
  {
   "cell_type": "code",
   "execution_count": 1,
   "id": "f47ab100",
   "metadata": {},
   "outputs": [
    {
     "name": "stdout",
     "output_type": "stream",
     "text": [
      "Solution for x and y: [2.09090909 0.18181818]\n"
     ]
    }
   ],
   "source": [
    "from scipy.linalg import solve\n",
    "\n",
    "# Coefficients matrix\n",
    "A = [[3, 4], [2, -1]]\n",
    "# Constants\n",
    "b = [7, 4]\n",
    "\n",
    "# Solve the system\n",
    "solution = solve(A, b)\n",
    "print(\"Solution for x and y:\", solution)\n"
   ]
  },
  {
   "cell_type": "markdown",
   "id": "2576050f",
   "metadata": {},
   "source": [
    "# Problem 2: Find the Eigenvalues and Eigenvectors of a Matrix\n"
   ]
  },
  {
   "cell_type": "code",
   "execution_count": 2,
   "id": "fefd905b",
   "metadata": {},
   "outputs": [
    {
     "name": "stdout",
     "output_type": "stream",
     "text": [
      "Eigenvalues: [6.+0.j 1.+0.j]\n",
      "Eigenvectors:\n",
      " [[ 0.9701425  -0.70710678]\n",
      " [ 0.24253563  0.70710678]]\n"
     ]
    }
   ],
   "source": [
    "from scipy.linalg import eig\n",
    "\n",
    "# Define matrix\n",
    "matrix = [[5, 4], [1, 2]]\n",
    "\n",
    "# Compute eigenvalues and eigenvectors\n",
    "eigenvalues, eigenvectors = eig(matrix)\n",
    "print(\"Eigenvalues:\", eigenvalues)\n",
    "print(\"Eigenvectors:\\n\", eigenvectors)\n"
   ]
  },
  {
   "cell_type": "markdown",
   "id": "28923254",
   "metadata": {},
   "source": [
    "# Problem 3: Compute a Definite Integral\n"
   ]
  },
  {
   "cell_type": "code",
   "execution_count": 3,
   "id": "297f515f",
   "metadata": {},
   "outputs": [
    {
     "name": "stdout",
     "output_type": "stream",
     "text": [
      "Definite integral result: 12.666666666666666\n"
     ]
    }
   ],
   "source": [
    "from scipy.integrate import quad\n",
    "\n",
    "# Define the function\n",
    "def f(x):\n",
    "    return x**2 + 3*x + 2\n",
    "\n",
    "# Integrate from 0 to 2\n",
    "result, error = quad(f, 0, 2)\n",
    "print(\"Definite integral result:\", result)\n"
   ]
  },
  {
   "cell_type": "markdown",
   "id": "30dd1bf4",
   "metadata": {},
   "source": [
    "# Problem 4: Perform a Fast Fourier Transform (FFT)\n"
   ]
  },
  {
   "cell_type": "code",
   "execution_count": 4,
   "id": "365c8dca",
   "metadata": {},
   "outputs": [
    {
     "name": "stdout",
     "output_type": "stream",
     "text": [
      "FFT result: [ 7. -0.00000000e+00j  3. +8.66025404e-01j -3.5-3.33066907e-16j\n",
      "  0. -0.00000000e+00j -3.5+3.33066907e-16j  3. -8.66025404e-01j]\n"
     ]
    }
   ],
   "source": [
    "from scipy.fft import fft\n",
    "\n",
    "# Define the signal\n",
    "signal = [1, 2, 1, -1, 1.5, 2.5]\n",
    "\n",
    "# Compute the FFT\n",
    "fft_result = fft(signal)\n",
    "print(\"FFT result:\", fft_result)\n"
   ]
  },
  {
   "cell_type": "code",
   "execution_count": null,
   "id": "c45a34d3",
   "metadata": {},
   "outputs": [],
   "source": []
  }
 ],
 "metadata": {
  "kernelspec": {
   "display_name": "ml",
   "language": "python",
   "name": "ml"
  },
  "language_info": {
   "codemirror_mode": {
    "name": "ipython",
    "version": 3
   },
   "file_extension": ".py",
   "mimetype": "text/x-python",
   "name": "python",
   "nbconvert_exporter": "python",
   "pygments_lexer": "ipython3",
   "version": "3.10.9"
  }
 },
 "nbformat": 4,
 "nbformat_minor": 5
}
