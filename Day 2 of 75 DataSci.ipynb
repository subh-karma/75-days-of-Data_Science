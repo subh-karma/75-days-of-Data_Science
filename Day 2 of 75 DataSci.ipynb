{
 "cells": [
  {
   "cell_type": "markdown",
   "id": "3c5e35f1",
   "metadata": {},
   "source": [
    "Question: Data Cleaning Challenge\n",
    "You are given a dataset with the following issues:\n",
    "\n",
    "Missing values in some columns.\n",
    "Incorrect data types in certain columns.\n",
    "Duplicate entries in the dataset.\n",
    "Outliers in numerical columns.\n"
   ]
  },
  {
   "cell_type": "code",
   "execution_count": 1,
   "id": "a24a36a5",
   "metadata": {},
   "outputs": [
    {
     "name": "stdout",
     "output_type": "stream",
     "text": [
      "Original Dataset:\n",
      "      Name   Age   Salary Joining Date Department\n",
      "0    Alice  25.0  50000.0   2020-01-15      Sales\n",
      "1      Bob  32.0      NaN   2019-06-22         HR\n",
      "2  Charlie  29.0  65000.0   2018-03-12         IT\n",
      "3    David   NaN  72000.0   2020-08-01         IT\n",
      "4      Eve  30.0  71000.0          NaN      Sales\n",
      "5    Alice  25.0  50000.0   2020-01-15      Sales\n"
     ]
    }
   ],
   "source": [
    "import pandas as pd\n",
    "import numpy as np\n",
    "\n",
    "# Create a sample dataset\n",
    "data = {\n",
    "    'Name': ['Alice', 'Bob', 'Charlie', 'David', 'Eve', 'Alice'],\n",
    "    'Age': [25, 32, 29, np.nan, 30, 25],\n",
    "    'Salary': [50000, np.nan, 65000, 72000, 71000, 50000],\n",
    "    'Joining Date': ['2020-01-15', '2019-06-22', '2018-03-12', '2020-08-01', np.nan, '2020-01-15'],\n",
    "    'Department': ['Sales', 'HR', 'IT', 'IT', 'Sales', 'Sales']\n",
    "}\n",
    "\n",
    "df = pd.DataFrame(data)\n",
    "\n",
    "# Display the dataset\n",
    "print(\"Original Dataset:\")\n",
    "print(df)\n"
   ]
  },
  {
   "cell_type": "code",
   "execution_count": 2,
   "id": "75100767",
   "metadata": {},
   "outputs": [
    {
     "name": "stdout",
     "output_type": "stream",
     "text": [
      "\n",
      "Dataset after handling missing values:\n",
      "      Name   Age   Salary Joining Date Department\n",
      "0    Alice  25.0  50000.0   2020-01-15      Sales\n",
      "1      Bob  32.0  61600.0   2019-06-22         HR\n",
      "2  Charlie  29.0  65000.0   2018-03-12         IT\n",
      "3    David  28.2  72000.0   2020-08-01         IT\n",
      "5    Alice  25.0  50000.0   2020-01-15      Sales\n"
     ]
    }
   ],
   "source": [
    "# Fill missing Age values with the mean\n",
    "df['Age'].fillna(df['Age'].mean(), inplace=True)\n",
    "\n",
    "# Fill missing Salary values with the mean\n",
    "df['Salary'].fillna(df['Salary'].mean(), inplace=True)\n",
    "\n",
    "# Drop rows where Joining Date is missing\n",
    "df.dropna(subset=['Joining Date'], inplace=True)\n",
    "\n",
    "print(\"\\nDataset after handling missing values:\")\n",
    "print(df)\n"
   ]
  },
  {
   "cell_type": "code",
   "execution_count": 3,
   "id": "126b1b8b",
   "metadata": {},
   "outputs": [
    {
     "name": "stdout",
     "output_type": "stream",
     "text": [
      "\n",
      "Dataset after converting 'Joining Date' to datetime:\n",
      "Name                    object\n",
      "Age                    float64\n",
      "Salary                 float64\n",
      "Joining Date    datetime64[ns]\n",
      "Department              object\n",
      "dtype: object\n"
     ]
    }
   ],
   "source": [
    "# Convert 'Joining Date' to datetime format\n",
    "df['Joining Date'] = pd.to_datetime(df['Joining Date'])\n",
    "\n",
    "print(\"\\nDataset after converting 'Joining Date' to datetime:\")\n",
    "print(df.dtypes)\n"
   ]
  },
  {
   "cell_type": "code",
   "execution_count": 4,
   "id": "f2c50e10",
   "metadata": {},
   "outputs": [
    {
     "name": "stdout",
     "output_type": "stream",
     "text": [
      "\n",
      "Number of duplicate rows: 1\n",
      "\n",
      "Dataset after removing duplicates:\n",
      "      Name   Age   Salary Joining Date Department\n",
      "0    Alice  25.0  50000.0   2020-01-15      Sales\n",
      "1      Bob  32.0  61600.0   2019-06-22         HR\n",
      "2  Charlie  29.0  65000.0   2018-03-12         IT\n",
      "3    David  28.2  72000.0   2020-08-01         IT\n"
     ]
    }
   ],
   "source": [
    "# Check for duplicates\n",
    "print(\"\\nNumber of duplicate rows:\", df.duplicated().sum())\n",
    "\n",
    "# Remove duplicate rows\n",
    "df.drop_duplicates(inplace=True)\n",
    "\n",
    "print(\"\\nDataset after removing duplicates:\")\n",
    "print(df)\n"
   ]
  },
  {
   "cell_type": "code",
   "execution_count": null,
   "id": "b0cac044",
   "metadata": {},
   "outputs": [],
   "source": []
  }
 ],
 "metadata": {
  "kernelspec": {
   "display_name": "Python 3 (ipykernel)",
   "language": "python",
   "name": "python3"
  },
  "language_info": {
   "codemirror_mode": {
    "name": "ipython",
    "version": 3
   },
   "file_extension": ".py",
   "mimetype": "text/x-python",
   "name": "python",
   "nbconvert_exporter": "python",
   "pygments_lexer": "ipython3",
   "version": "3.11.4"
  }
 },
 "nbformat": 4,
 "nbformat_minor": 5
}
