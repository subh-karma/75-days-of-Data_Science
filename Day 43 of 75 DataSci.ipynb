{
 "cells": [
  {
   "cell_type": "code",
   "execution_count": null,
   "id": "e0b319bd",
   "metadata": {},
   "outputs": [],
   "source": [
    "import pandas as pd\n",
    "import matplotlib.pyplot as plt\n",
    "import seaborn as sns\n",
    "\n",
    "\n",
    "df = pd.read_csv('data.csv')\n",
    "\n",
    "# Preview the dataset\n",
    "print(\"Dataset Overview:\")\n",
    "print(df.head())\n",
    "\n",
    "# Check for missing values\n",
    "print(\"\\nMissing Values:\")\n",
    "print(df.isnull().sum())\n",
    "\n",
    "# Fill or drop missing values (Example: Filling with median)\n",
    "df.fillna(df.median(), inplace=True)\n",
    "\n",
    "# Data summary\n",
    "print(\"\\nDataset Description:\")\n",
    "print(df.describe())\n",
    "\n",
    "# Correlation heatmap\n",
    "print(\"\\nCorrelation Heatmap:\")\n",
    "plt.figure(figsize=(10, 6))\n",
    "sns.heatmap(df.corr(), annot=True, cmap='coolwarm')\n",
    "plt.title('Correlation Matrix')\n",
    "plt.show()\n",
    "\n",
    "# Visualization: Distribution of a specific column (e.g., 'Price')\n",
    "print(\"\\nDistribution of 'Price':\")\n",
    "sns.histplot(df['Price'], kde=True, bins=20, color='blue')\n",
    "plt.title('Price Distribution')\n",
    "plt.xlabel('Price')\n",
    "plt.ylabel('Frequency')\n",
    "plt.show()\n",
    "\n",
    "# Scatter plot: Relationship between two variables (e.g., 'Area' and 'Price')\n",
    "print(\"\\nScatter Plot of Area vs Price:\")\n",
    "plt.figure(figsize=(8, 5))\n",
    "sns.scatterplot(x='Area', y='Price', data=df, color='green')\n",
    "plt.title('Area vs Price')\n",
    "plt.xlabel('Area')\n",
    "plt.ylabel('Price')\n",
    "plt.show()\n",
    "\n",
    "# Save the cleaned dataset\n",
    "df.to_csv('cleaned_data.csv', index=False)\n",
    "print(\"\\nCleaned dataset saved as 'cleaned_data.csv'\")\n"
   ]
  }
 ],
 "metadata": {
  "kernelspec": {
   "display_name": "Python 3 (ipykernel)",
   "language": "python",
   "name": "python3"
  },
  "language_info": {
   "codemirror_mode": {
    "name": "ipython",
    "version": 3
   },
   "file_extension": ".py",
   "mimetype": "text/x-python",
   "name": "python",
   "nbconvert_exporter": "python",
   "pygments_lexer": "ipython3",
   "version": "3.11.4"
  }
 },
 "nbformat": 4,
 "nbformat_minor": 5
}
