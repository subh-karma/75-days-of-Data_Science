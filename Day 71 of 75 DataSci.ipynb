{
 "cells": [
  {
   "cell_type": "code",
   "execution_count": 1,
   "id": "b9b68b02",
   "metadata": {},
   "outputs": [
    {
     "name": "stdout",
     "output_type": "stream",
     "text": [
      "Neuron Output: [0.84131107]\n"
     ]
    }
   ],
   "source": [
    "import numpy as np\n",
    "\n",
    "class Neuron:\n",
    "    def __init__(self, n_inputs):\n",
    "        \"\"\"\n",
    "        Initialize the neuron with random weights and bias.\n",
    "\n",
    "        :param n_inputs: int - The number of inputs to the neuron.\n",
    "        \"\"\"\n",
    "        self.weights = np.random.rand(n_inputs)  # Random weights for each input\n",
    "        self.bias = np.random.rand(1)  # Random bias\n",
    "\n",
    "    def activate(self, inputs):\n",
    "        \"\"\"\n",
    "        Perform a forward pass through the neuron.\n",
    "\n",
    "        :param inputs: List[float] - The inputs to the neuron.\n",
    "        :return: float - The output after applying the activation function.\n",
    "        \"\"\"\n",
    "        # Calculate the weighted sum (z = w1*x1 + w2*x2 + ... + wn*xn + b)\n",
    "        z = np.dot(self.weights, inputs) + self.bias\n",
    "        \n",
    "        # Apply the activation function (Sigmoid in this case)\n",
    "        return self.sigmoid(z)\n",
    "\n",
    "    @staticmethod\n",
    "    def sigmoid(x):\n",
    "        \"\"\"\n",
    "        Sigmoid activation function: f(x) = 1 / (1 + e^(-x)).\n",
    "        \"\"\"\n",
    "        return 1 / (1 + np.exp(-x))\n",
    "\n",
    "\n",
    "# Example usage:\n",
    "if __name__ == \"__main__\":\n",
    "    inputs = [0.5, 0.8, 0.3]  # Example input to the neuron\n",
    "    neuron = Neuron(n_inputs=len(inputs))  # Create a neuron with 3 inputs\n",
    "    output = neuron.activate(inputs)  # Forward pass to get output\n",
    "    print(f\"Neuron Output: {output}\")\n"
   ]
  },
  {
   "cell_type": "code",
   "execution_count": null,
   "id": "f74680d3",
   "metadata": {},
   "outputs": [],
   "source": []
  }
 ],
 "metadata": {
  "kernelspec": {
   "display_name": "Python 3 (ipykernel)",
   "language": "python",
   "name": "python3"
  },
  "language_info": {
   "codemirror_mode": {
    "name": "ipython",
    "version": 3
   },
   "file_extension": ".py",
   "mimetype": "text/x-python",
   "name": "python",
   "nbconvert_exporter": "python",
   "pygments_lexer": "ipython3",
   "version": "3.11.4"
  }
 },
 "nbformat": 4,
 "nbformat_minor": 5
}
