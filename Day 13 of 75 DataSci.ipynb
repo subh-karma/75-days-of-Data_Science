{
 "cells": [
  {
   "cell_type": "code",
   "execution_count": 2,
   "id": "30fcf354",
   "metadata": {},
   "outputs": [],
   "source": [
    "#pyspark"
   ]
  },
  {
   "cell_type": "code",
   "execution_count": 3,
   "id": "29de7c66",
   "metadata": {},
   "outputs": [],
   "source": [
    "from pyspark.sql import SparkSession\n",
    "from pyspark.sql.functions import col\n",
    "\n",
    "# Step 1: Create a Spark session\n",
    "spark = SparkSession.builder \\\n",
    "    .appName(\"SimplePySparkExample\") \\\n",
    "    .getOrCreate()\n",
    "\n",
    "# Step 2: Create a DataFrame from a list of dictionaries\n",
    "data = [\n",
    "    {\"name\": \"Alice\", \"age\": 25, \"city\": \"New York\"},\n",
    "    {\"name\": \"Bob\", \"age\": 30, \"city\": \"San Francisco\"},\n",
    "    {\"name\": \"Cathy\", \"age\": 28, \"city\": \"Boston\"},\n",
    "    {\"name\": \"David\", \"age\": 35, \"city\": \"Chicago\"}\n",
    "]\n",
    "\n",
    "df = spark.createDataFrame(data)\n",
    "\n",
    "# Step 3: Select columns and filter rows\n",
    "# Select \"name\" and \"age\" columns\n",
    "df_selected = df.select(\"name\", \"age\")\n",
    "\n",
    "# Filter rows where age is greater than 28\n",
    "df_filtered = df_selected.filter(col(\"age\") > 28)\n",
    "\n",
    "# Step 4: Show the result\n",
    "df_filtered.show()\n",
    "\n",
    "# Stop the Spark session\n",
    "spark.stop()\n"
   ]
  },
  {
   "cell_type": "code",
   "execution_count": 7,
   "id": "60a19d73",
   "metadata": {},
   "outputs": [],
   "source": [
    "df = spark.createDataFrame(data)\n",
    "print(df)\n"
   ]
  },
  {
   "cell_type": "code",
   "execution_count": null,
   "id": "17d491c2",
   "metadata": {},
   "outputs": [],
   "source": []
  },
  {
   "cell_type": "code",
   "execution_count": null,
   "id": "1d644a23",
   "metadata": {},
   "outputs": [],
   "source": []
  }
 ],
 "metadata": {
  "kernelspec": {
   "display_name": "Python 3 (ipykernel)",
   "language": "python",
   "name": "python3"
  },
  "language_info": {
   "codemirror_mode": {
    "name": "ipython",
    "version": 3
   },
   "file_extension": ".py",
   "mimetype": "text/x-python",
   "name": "python",
   "nbconvert_exporter": "python",
   "pygments_lexer": "ipython3",
   "version": "3.11.4"
  }
 },
 "nbformat": 4,
 "nbformat_minor": 5
}
